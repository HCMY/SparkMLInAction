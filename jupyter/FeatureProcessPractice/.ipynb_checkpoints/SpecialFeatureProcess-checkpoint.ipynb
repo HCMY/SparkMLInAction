{
 "cells": [
  {
   "cell_type": "code",
   "execution_count": 30,
   "metadata": {},
   "outputs": [
    {
     "data": {
      "text/plain": [
       "import org.apache.spark.sql.SparkSession\r\n",
       "import org.apache.spark.sql.types.{IntegerType, StringType, StructField, StructType, MapType}\r\n",
       "import org.apache.spark.sql.DataFrame\r\n",
       "import org.apache.spark.sql.functions\r\n",
       "import org.apache.spark.ml.feature.StringIndexer\r\n",
       "import org.apache.spark.ml.{Pipeline, PipelineModel}\r\n",
       "import org.apache.spark.ml.feature.Imputer\n"
      ]
     },
     "execution_count": 30,
     "metadata": {},
     "output_type": "execute_result"
    }
   ],
   "source": [
    "import org.apache.spark.sql.SparkSession\n",
    "import org.apache.spark.sql.types.{IntegerType, StringType, StructField, StructType,MapType}\n",
    "import org.apache.spark.sql.{DataFrame}\n",
    "import org.apache.spark.sql.functions\n",
    "import org.apache.spark.ml.feature.StringIndexer\n",
    "import org.apache.spark.ml.{Pipeline,PipelineModel}\n",
    "import org.apache.spark.ml.feature.Imputer"
   ]
  },
  {
   "cell_type": "code",
   "execution_count": 2,
   "metadata": {},
   "outputs": [
    {
     "data": {
      "text/plain": [
       "spark: org.apache.spark.sql.SparkSession = org.apache.spark.sql.SparkSession@4e2b0c1a\r\n",
       "sc: org.apache.spark.SparkContext = org.apache.spark.SparkContext@f4461f8\n"
      ]
     },
     "execution_count": 2,
     "metadata": {},
     "output_type": "execute_result"
    }
   ],
   "source": [
    "val spark = SparkSession\n",
    "    .builder()\n",
    "    .appName(\"Utils\")\n",
    "    .master(\"local[2]\")\n",
    "    .getOrCreate()\n",
    "\n",
    "val sc = spark.sparkContext"
   ]
  },
  {
   "cell_type": "markdown",
   "metadata": {},
   "source": [
    "# Dataframe Array数据类型处理"
   ]
  },
  {
   "cell_type": "code",
   "execution_count": 21,
   "metadata": {},
   "outputs": [
    {
     "data": {
      "text/plain": [
       "simpleArrayDF: org.apache.spark.sql.DataFrame = [name: string, songs: string ... 1 more field]\r\n",
       "simpleArrayDF: org.apache.spark.sql.DataFrame = [name: string, songs: string ... 1 more field]\n"
      ]
     },
     "execution_count": 21,
     "metadata": {},
     "output_type": "execute_result"
    }
   ],
   "source": [
    "var simpleArrayDF = Seq((\"beatles\", \"help,hey jude,some time\"),\n",
    "                        (\"romeo\", \"eres mia,hahah,check\")\n",
    "                        ).toDF(\"name\",\"songs\")\n",
    "\n",
    "simpleArrayDF = simpleArrayDF.withColumn(\n",
    "    \"hit_songs\",functions.split(col(\"songs\"),\"\\\\,\")\n",
    ")"
   ]
  },
  {
   "cell_type": "code",
   "execution_count": 22,
   "metadata": {},
   "outputs": [
    {
     "name": "stdout",
     "output_type": "stream",
     "text": [
      "root\n",
      " |-- name: string (nullable = true)\n",
      " |-- songs: string (nullable = true)\n",
      " |-- hit_songs: array (nullable = true)\n",
      " |    |-- element: string (containsNull = true)\n",
      "\n"
     ]
    }
   ],
   "source": [
    "simpleArrayDF.printSchema()"
   ]
  },
  {
   "cell_type": "code",
   "execution_count": 23,
   "metadata": {},
   "outputs": [
    {
     "name": "stdout",
     "output_type": "stream",
     "text": [
      "+-------+--------------------+--------------------+\n",
      "|   name|               songs|           hit_songs|\n",
      "+-------+--------------------+--------------------+\n",
      "|beatles|help,hey jude,som...|[help, hey jude, ...|\n",
      "|  romeo|eres mia,hahah,check|[eres mia, hahah,...|\n",
      "+-------+--------------------+--------------------+\n",
      "\n"
     ]
    }
   ],
   "source": [
    "simpleArrayDF.show()"
   ]
  },
  {
   "cell_type": "markdown",
   "metadata": {},
   "source": [
    "## 把Array里的内容展开"
   ]
  },
  {
   "cell_type": "code",
   "execution_count": 27,
   "metadata": {},
   "outputs": [
    {
     "name": "stdout",
     "output_type": "stream",
     "text": [
      "+-------+---------+\n",
      "|   name|hit_songs|\n",
      "+-------+---------+\n",
      "|beatles|     help|\n",
      "|beatles| hey jude|\n",
      "|beatles|some time|\n",
      "|  romeo| eres mia|\n",
      "|  romeo|    hahah|\n",
      "|  romeo|    check|\n",
      "+-------+---------+\n",
      "\n"
     ]
    }
   ],
   "source": [
    "simpleArrayDF.select($\"name\",functions.explode($\"hit_songs\").as(\"hit_songs\")).show()"
   ]
  },
  {
   "cell_type": "markdown",
   "metadata": {},
   "source": [
    "## Array 是否包含某个元素"
   ]
  },
  {
   "cell_type": "code",
   "execution_count": 49,
   "metadata": {},
   "outputs": [
    {
     "name": "stdout",
     "output_type": "stream",
     "text": [
      "+-------+--------------------+--------------------+------------+\n",
      "|   name|               songs|           hit_songs|is_contained|\n",
      "+-------+--------------------+--------------------+------------+\n",
      "|beatles|help,hey jude,som...|[help, hey jude, ...|        true|\n",
      "|  romeo|eres mia,hahah,check|[eres mia, hahah,...|       false|\n",
      "+-------+--------------------+--------------------+------------+\n",
      "\n"
     ]
    }
   ],
   "source": [
    "simpleArrayDF.withColumn(\n",
    "    \"is_contained\",\n",
    "    functions.array_contains($\"hit_songs\",\"help\")\n",
    ").show()"
   ]
  },
  {
   "cell_type": "code",
   "execution_count": null,
   "metadata": {},
   "outputs": [],
   "source": []
  },
  {
   "cell_type": "markdown",
   "metadata": {},
   "source": [
    "# Dataframe Map 数据类型处理"
   ]
  },
  {
   "cell_type": "code",
   "execution_count": 43,
   "metadata": {},
   "outputs": [
    {
     "data": {
      "text/plain": [
       "simpleMapDataFrame: org.apache.spark.sql.DataFrame = [name: string, songs: map<string,string>]\n"
      ]
     },
     "execution_count": 43,
     "metadata": {},
     "output_type": "execute_result"
    }
   ],
   "source": [
    "var simpleMapDataFrame = Seq(\n",
    "        (\"sublime\", Map(\"good_song\" -> \"santeria\",\"bad_song\" -> \"doesn't exist\")),\n",
    "        (\"prince_royce\", Map(\"good_song\" -> \"darte un beso\",\"bad_song\" -> \"back it up\"))\n",
    "        ).toDF(\"name\",\"songs\")"
   ]
  },
  {
   "cell_type": "code",
   "execution_count": 45,
   "metadata": {},
   "outputs": [
    {
     "name": "stdout",
     "output_type": "stream",
     "text": [
      "root\n",
      " |-- name: string (nullable = true)\n",
      " |-- songs: map (nullable = true)\n",
      " |    |-- key: string\n",
      " |    |-- value: string (valueContainsNull = true)\n",
      "\n",
      "+------------+--------------------+\n",
      "|        name|               songs|\n",
      "+------------+--------------------+\n",
      "|     sublime|[good_song -> san...|\n",
      "|prince_royce|[good_song -> dar...|\n",
      "+------------+--------------------+\n",
      "\n"
     ]
    }
   ],
   "source": [
    "simpleMapDataFrame.printSchema()\n",
    "simpleMapDataFrame.show()"
   ]
  },
  {
   "cell_type": "code",
   "execution_count": 48,
   "metadata": {},
   "outputs": [
    {
     "name": "stdout",
     "output_type": "stream",
     "text": [
      "+------------+-------------+\n",
      "|        name|          fun|\n",
      "+------------+-------------+\n",
      "|     sublime|     santeria|\n",
      "|prince_royce|darte un beso|\n",
      "+------------+-------------+\n",
      "\n"
     ]
    }
   ],
   "source": [
    "simpleMapDataFrame.select($\"name\",col(\"songs\")(\"good_song\").as(\"fun\")).show()"
   ]
  },
  {
   "cell_type": "code",
   "execution_count": null,
   "metadata": {},
   "outputs": [],
   "source": []
  }
 ],
 "metadata": {
  "kernelspec": {
   "display_name": "spylon-kernel",
   "language": "scala",
   "name": "spylon-kernel"
  },
  "language_info": {
   "codemirror_mode": "text/x-scala",
   "file_extension": ".scala",
   "help_links": [
    {
     "text": "MetaKernel Magics",
     "url": "https://metakernel.readthedocs.io/en/latest/source/README.html"
    }
   ],
   "mimetype": "text/x-scala",
   "name": "scala",
   "pygments_lexer": "scala",
   "version": "0.4.1"
  }
 },
 "nbformat": 4,
 "nbformat_minor": 2
}
