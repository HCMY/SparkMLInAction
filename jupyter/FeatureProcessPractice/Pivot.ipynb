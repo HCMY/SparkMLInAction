{
 "cells": [
  {
   "cell_type": "code",
   "execution_count": 1,
   "metadata": {},
   "outputs": [
    {
     "data": {
      "text/plain": [
       "Intitializing Scala interpreter ..."
      ]
     },
     "metadata": {},
     "output_type": "display_data"
    },
    {
     "data": {
      "text/plain": [
       "Spark Web UI available at http://26.26.26.1:4040\n",
       "SparkContext available as 'sc' (version = 2.4.8, master = local[*], app id = local-1625981282042)\n",
       "SparkSession available as 'spark'\n"
      ]
     },
     "metadata": {},
     "output_type": "display_data"
    },
    {
     "data": {
      "text/plain": [
       "import org.apache.spark.sql.SparkSession\r\n",
       "import org.apache.spark.sql.types.{IntegerType, StringType, StructField, StructType, MapType}\r\n",
       "import org.apache.spark.sql.DataFrame\r\n",
       "import org.apache.spark.sql.functions\r\n",
       "import org.apache.spark.ml.feature.StringIndexer\r\n",
       "import org.apache.spark.ml.{Pipeline, PipelineModel}\r\n",
       "import org.apache.spark.ml.feature.Imputer\n"
      ]
     },
     "execution_count": 1,
     "metadata": {},
     "output_type": "execute_result"
    }
   ],
   "source": [
    "import org.apache.spark.sql.SparkSession\n",
    "import org.apache.spark.sql.types.{IntegerType, StringType, StructField, StructType,MapType}\n",
    "import org.apache.spark.sql.{DataFrame}\n",
    "import org.apache.spark.sql.functions\n",
    "import org.apache.spark.ml.feature.StringIndexer\n",
    "import org.apache.spark.ml.{Pipeline,PipelineModel}\n",
    "import org.apache.spark.ml.feature.Imputer"
   ]
  },
  {
   "cell_type": "code",
   "execution_count": 108,
   "metadata": {},
   "outputs": [
    {
     "data": {
      "text/plain": [
       "import java.time.LocalDate\r\n",
       "import scala.collection.JavaConverters\n"
      ]
     },
     "execution_count": 108,
     "metadata": {},
     "output_type": "execute_result"
    }
   ],
   "source": [
    "import java.time.LocalDate\n",
    "import scala.collection.JavaConverters;"
   ]
  },
  {
   "cell_type": "code",
   "execution_count": 2,
   "metadata": {},
   "outputs": [
    {
     "data": {
      "text/plain": [
       "spark: org.apache.spark.sql.SparkSession = org.apache.spark.sql.SparkSession@1819558f\r\n",
       "sc: org.apache.spark.SparkContext = org.apache.spark.SparkContext@69f3aa98\n"
      ]
     },
     "execution_count": 2,
     "metadata": {},
     "output_type": "execute_result"
    }
   ],
   "source": [
    "val spark = SparkSession\n",
    "    .builder()\n",
    "    .appName(\"Utils\")\n",
    "    .master(\"local[2]\")\n",
    "    .getOrCreate()\n",
    "\n",
    "val sc = spark.sparkContext"
   ]
  },
  {
   "cell_type": "code",
   "execution_count": 4,
   "metadata": {},
   "outputs": [
    {
     "name": "stdout",
     "output_type": "stream",
     "text": [
      "+-------+------+----------+\n",
      "|product|amount|        dt|\n",
      "+-------+------+----------+\n",
      "| Banana|  1000|2021-07-01|\n",
      "|Carrots|  1500|2021-07-01|\n",
      "|  Beans|  1600|2021-07-01|\n",
      "| Orange|  2000|2021-07-01|\n",
      "| Orange|  2000|2021-07-01|\n",
      "| Banana|   400|2021-07-02|\n",
      "|Carrots|  1200|2021-07-02|\n",
      "|  Beans|  1500|2021-07-02|\n",
      "| Orange|  4000|2021-07-02|\n",
      "| Banana|  2000|2021-07-03|\n",
      "|Carrots|  2000|2021-07-03|\n",
      "|  Beans|  2000|2021-07-04|\n",
      "+-------+------+----------+\n",
      "\n"
     ]
    },
    {
     "data": {
      "text/plain": [
       "data: Seq[(String, Int, String)] = List((Banana,1000,2021-07-01), (Carrots,1500,2021-07-01), (Beans,1600,2021-07-01), (Orange,2000,2021-07-01), (Orange,2000,2021-07-01), (Banana,400,2021-07-02), (Carrots,1200,2021-07-02), (Beans,1500,2021-07-02), (Orange,4000,2021-07-02), (Banana,2000,2021-07-03), (Carrots,2000,2021-07-03), (Beans,2000,2021-07-04))\r\n",
       "import spark.sqlContext.implicits._\r\n",
       "df: org.apache.spark.sql.DataFrame = [product: string, amount: int ... 1 more field]\n"
      ]
     },
     "execution_count": 4,
     "metadata": {},
     "output_type": "execute_result"
    }
   ],
   "source": [
    "val data = Seq((\"Banana\",1000,\"2021-07-01\"), (\"Carrots\",1500,\"2021-07-01\"), (\"Beans\",1600,\"2021-07-01\"),\n",
    "                (\"Orange\",2000,\"2021-07-01\"),(\"Orange\",2000,\"2021-07-01\"),(\"Banana\",400,\"2021-07-02\"),\n",
    "                (\"Carrots\",1200,\"2021-07-02\"),(\"Beans\",1500,\"2021-07-02\"),(\"Orange\",4000,\"2021-07-02\"),\n",
    "                (\"Banana\",2000,\"2021-07-03\"),(\"Carrots\",2000,\"2021-07-03\"),(\"Beans\",2000,\"2021-07-04\"))\n",
    "\n",
    "import spark.sqlContext.implicits._\n",
    "val df = data.toDF(\"product\",\"amount\",\"dt\")\n",
    "df.show()"
   ]
  },
  {
   "cell_type": "code",
   "execution_count": 7,
   "metadata": {},
   "outputs": [
    {
     "name": "stdout",
     "output_type": "stream",
     "text": [
      "root\n",
      " |-- product: string (nullable = true)\n",
      " |-- amount: integer (nullable = false)\n",
      " |-- dt: string (nullable = true)\n",
      "\n"
     ]
    }
   ],
   "source": [
    "df.printSchema()"
   ]
  },
  {
   "cell_type": "code",
   "execution_count": 139,
   "metadata": {},
   "outputs": [
    {
     "data": {
      "text/plain": [
       "sortByDate: (s1: String, s2: String)Boolean\n"
      ]
     },
     "execution_count": 139,
     "metadata": {},
     "output_type": "execute_result"
    }
   ],
   "source": [
    "def sortByDate(s1: String, s2: String) = {\n",
    "    val d1 = LocalDate.parse(s1)\n",
    "    val d2 = LocalDate.parse(s2)\n",
    "    d2.isAfter(d1)\n",
    "}"
   ]
  },
  {
   "cell_type": "code",
   "execution_count": null,
   "metadata": {},
   "outputs": [],
   "source": []
  },
  {
   "cell_type": "code",
   "execution_count": 140,
   "metadata": {},
   "outputs": [
    {
     "name": "stdout",
     "output_type": "stream",
     "text": [
      "+-------+----------+----------+----------+----------+\n",
      "|product|2021-07-01|2021-07-02|2021-07-03|2021-07-04|\n",
      "+-------+----------+----------+----------+----------+\n",
      "| Orange|      4000|      4000|      null|      null|\n",
      "|  Beans|      1600|      1500|      null|      2000|\n",
      "| Banana|      1000|       400|      2000|      null|\n",
      "|Carrots|      1500|      1200|      2000|      null|\n",
      "+-------+----------+----------+----------+----------+\n",
      "\n"
     ]
    },
    {
     "data": {
      "text/plain": [
       "dts: Seq[String] = ArrayBuffer(2021-07-01, 2021-07-02, 2021-07-03, 2021-07-04)\r\n",
       "pivotDf: org.apache.spark.sql.DataFrame = [product: string, 2021-07-01: bigint ... 3 more fields]\n"
      ]
     },
     "execution_count": 140,
     "metadata": {},
     "output_type": "execute_result"
    }
   ],
   "source": [
    "val dts = df.select($\"dt\").distinct.collect.toSeq.map(x=>x(0)).asInstanceOf[Seq[String]].sortWith(sortByDate)\n",
    "\n",
    "val pivotDf = df.groupBy(\"product\").pivot(\"dt\",dts).sum(\"amount\")\n",
    "pivotDf.show()"
   ]
  },
  {
   "cell_type": "code",
   "execution_count": 135,
   "metadata": {},
   "outputs": [
    {
     "name": "stdout",
     "output_type": "stream",
     "text": [
      "+-------+--------+--------+--------+--------+\n",
      "|product|before_1|before_2|before_3|before_4|\n",
      "+-------+--------+--------+--------+--------+\n",
      "| Orange|    4000|    4000|    null|    null|\n",
      "|  Beans|    1600|    1500|    null|    2000|\n",
      "| Banana|    1000|     400|    2000|    null|\n",
      "|Carrots|    1500|    1200|    2000|    null|\n",
      "+-------+--------+--------+--------+--------+\n",
      "\n"
     ]
    },
    {
     "data": {
      "text/plain": [
       "newColNames: List[String] = List(before_1, before_2, before_3, before_4, before_5)\r\n",
       "cols: Seq[org.apache.spark.sql.Column] = ArrayBuffer(product, 2021-07-01 AS `before_1`, 2021-07-02 AS `before_2`, 2021-07-03 AS `before_3`, 2021-07-04 AS `before_4`)\r\n",
       "newDf: org.apache.spark.sql.DataFrame = [product: string, before_1: bigint ... 3 more fields]\n"
      ]
     },
     "execution_count": 135,
     "metadata": {},
     "output_type": "execute_result"
    }
   ],
   "source": [
    "val newColNames = (1 to dts.length+1).toList.map(x=>\"before_\"+x.toString)\n",
    "var cols = col(\"product\")+:dts.zip(newColNames).map(f=>{col(f._1).as(f._2)})\n",
    "val newDf = pivotDf.select(cols:_*)\n",
    "newDf.show()"
   ]
  },
  {
   "cell_type": "code",
   "execution_count": null,
   "metadata": {},
   "outputs": [],
   "source": []
  }
 ],
 "metadata": {
  "kernelspec": {
   "display_name": "spylon-kernel",
   "language": "scala",
   "name": "spylon-kernel"
  },
  "language_info": {
   "codemirror_mode": "text/x-scala",
   "file_extension": ".scala",
   "help_links": [
    {
     "text": "MetaKernel Magics",
     "url": "https://metakernel.readthedocs.io/en/latest/source/README.html"
    }
   ],
   "mimetype": "text/x-scala",
   "name": "scala",
   "pygments_lexer": "scala",
   "version": "0.4.1"
  }
 },
 "nbformat": 4,
 "nbformat_minor": 2
}
